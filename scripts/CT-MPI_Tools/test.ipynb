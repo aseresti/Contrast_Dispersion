{
 "cells": [
  {
   "cell_type": "code",
   "execution_count": 5,
   "metadata": {},
   "outputs": [],
   "source": [
    "import vtk\n",
    "import os\n",
    "from utilities import ReadVTUFile, ReadVTPFile, GetCentroid, vtk_to_numpy\n"
   ]
  },
  {
   "cell_type": "markdown",
   "metadata": {},
   "source": []
  },
  {
   "cell_type": "code",
   "execution_count": 2,
   "metadata": {},
   "outputs": [],
   "source": [
    "path = \"/Users/ana/Documents/AnahitaSeresti/02_ContrastStudy/Image_Based_Volumes/CABG7B/step5_Projected_Volume\""
   ]
  },
  {
   "cell_type": "code",
   "execution_count": 7,
   "metadata": {},
   "outputs": [
    {
     "data": {
      "text/plain": [
       "['aorta_01.vtu',\n",
       " 'aorta_02.vtu',\n",
       " 'aorta_03.vtu',\n",
       " 'aorta_04.vtu',\n",
       " 'aorta_05.vtu',\n",
       " 'aorta_06.vtu',\n",
       " 'aorta_07.vtu',\n",
       " 'aorta_08.vtu',\n",
       " 'aorta_09.vtu',\n",
       " 'aorta_10.vtu']"
      ]
     },
     "execution_count": 7,
     "metadata": {},
     "output_type": "execute_result"
    }
   ],
   "source": [
    "filenames = os.listdir(path)\n",
    "Volumefilenames = [filename for filename in filenames if \"vtu\" in filename]\n",
    "Volumefilenames = sorted(Volumefilenames)\n",
    "Volumefilenames\n",
    "\n"
   ]
  },
  {
   "cell_type": "code",
   "execution_count": 6,
   "metadata": {},
   "outputs": [],
   "source": [
    "def SphereClipp(center, Radius):\n",
    "        #define the Sphere\n",
    "        Sphere = vtk.vtkSphere()\n",
    "        Sphere.SetCenter(center)\n",
    "        Sphere.SetRadius(Radius*0.8)\n",
    "\n",
    "        #Implement vtkclipping filter \"sphere\"\n",
    "        clipper = vtk.vtkClipDataSet()\n",
    "        clipper.SetInputData(self.volume)\n",
    "        clipper.SetClipFunction(Sphere)\n",
    "        clipper.InsideOutOn()\n",
    "        clipper.GetOutputInformation(1)\n",
    "        clipper.Update()\n",
    "\n",
    "        #AverageFilter on each Sphere\n",
    "        SphereOutput = clipper.GetOutput().GetPointData().GetArray(\"scalars\")\n",
    "        SphereOutput = vtk_to_numpy(SphereOutput)\n",
    "        averagePixelValue = np.average(SphereOutput)\n",
    "        return averagePixelValue"
   ]
  },
  {
   "cell_type": "code",
   "execution_count": 15,
   "metadata": {},
   "outputs": [],
   "source": [
    "surfacefilename = [filename for filename in filenames if \"vtp\" in filename][0]\n",
    "surfacefilename\n",
    "surface = ReadVTPFile(f\"{path}/{surfacefilename}\")"
   ]
  },
  {
   "cell_type": "code",
   "execution_count": null,
   "metadata": {},
   "outputs": [
    {
     "ename": "",
     "evalue": "",
     "output_type": "error",
     "traceback": [
      "\u001b[1;31mRunning cells with 'VMTK' requires the ipykernel package.\n",
      "\u001b[1;31mRun the following command to install 'ipykernel' into the Python environment. \n",
      "\u001b[1;31mCommand: 'conda install -n VMTK ipykernel --update-deps --force-reinstall'"
     ]
    }
   ],
   "source": [
    "\n",
    "\n",
    "#Extract the centerline of the lumen with a new resamplingstep\n",
    "CL_File_Name = \"aorta_cl.vtp\"\n",
    "os.system(f\"vmtkcenterlines -ifile {path}/{surfacefilename} -ofile {path}/{CL_File_Name} -endpoints 1 -resampling 1 -resamplingstep 0.1\")\n"
   ]
  },
  {
   "cell_type": "code",
   "execution_count": null,
   "metadata": {},
   "outputs": [],
   "source": [
    "CLfile = ReadVTPFile(f\"{path}/{CL_File_Name}\")\n"
   ]
  }
 ],
 "metadata": {
  "kernelspec": {
   "display_name": "vtkfenics",
   "language": "python",
   "name": "python3"
  },
  "language_info": {
   "codemirror_mode": {
    "name": "ipython",
    "version": 3
   },
   "file_extension": ".py",
   "mimetype": "text/x-python",
   "name": "python",
   "nbconvert_exporter": "python",
   "pygments_lexer": "ipython3",
   "version": "3.6.1"
  }
 },
 "nbformat": 4,
 "nbformat_minor": 2
}
