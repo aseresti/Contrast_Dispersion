{
 "cells": [
  {
   "cell_type": "code",
   "execution_count": 66,
   "metadata": {},
   "outputs": [],
   "source": [
    "velocity_path = \"/Volumes/CIMBL_HardDrive1/AnahitaAbbasnejad/Velocity/StenoticPipe/Re1000_P2P1/u.h5\""
   ]
  },
  {
   "cell_type": "code",
   "execution_count": 72,
   "metadata": {},
   "outputs": [
    {
     "data": {
      "text/plain": [
       "<KeysViewHDF5 ['cell_dofs', 'cells', 'vector_0', 'vector_1', 'vector_10', 'vector_100', 'vector_1000', 'vector_101', 'vector_102', 'vector_103', 'vector_104', 'vector_105', 'vector_106', 'vector_107', 'vector_108', 'vector_109', 'vector_11', 'vector_110', 'vector_111', 'vector_112', 'vector_113', 'vector_114', 'vector_115', 'vector_116', 'vector_117', 'vector_118', 'vector_119', 'vector_12', 'vector_120', 'vector_121', 'vector_122', 'vector_123', 'vector_124', 'vector_125', 'vector_126', 'vector_127', 'vector_128', 'vector_129', 'vector_13', 'vector_130', 'vector_131', 'vector_132', 'vector_133', 'vector_134', 'vector_135', 'vector_136', 'vector_137', 'vector_138', 'vector_139', 'vector_14', 'vector_140', 'vector_141', 'vector_142', 'vector_143', 'vector_144', 'vector_145', 'vector_146', 'vector_147', 'vector_148', 'vector_149', 'vector_15', 'vector_150', 'vector_151', 'vector_152', 'vector_153', 'vector_154', 'vector_155', 'vector_156', 'vector_157', 'vector_158', 'vector_159', 'vector_16', 'vector_160', 'vector_161', 'vector_162', 'vector_163', 'vector_164', 'vector_165', 'vector_166', 'vector_167', 'vector_168', 'vector_169', 'vector_17', 'vector_170', 'vector_171', 'vector_172', 'vector_173', 'vector_174', 'vector_175', 'vector_176', 'vector_177', 'vector_178', 'vector_179', 'vector_18', 'vector_180', 'vector_181', 'vector_182', 'vector_183', 'vector_184', 'vector_185', 'vector_186', 'vector_187', 'vector_188', 'vector_189', 'vector_19', 'vector_190', 'vector_191', 'vector_192', 'vector_193', 'vector_194', 'vector_195', 'vector_196', 'vector_197', 'vector_198', 'vector_199', 'vector_2', 'vector_20', 'vector_200', 'vector_201', 'vector_202', 'vector_203', 'vector_204', 'vector_205', 'vector_206', 'vector_207', 'vector_208', 'vector_209', 'vector_21', 'vector_210', 'vector_211', 'vector_212', 'vector_213', 'vector_214', 'vector_215', 'vector_216', 'vector_217', 'vector_218', 'vector_219', 'vector_22', 'vector_220', 'vector_221', 'vector_222', 'vector_223', 'vector_224', 'vector_225', 'vector_226', 'vector_227', 'vector_228', 'vector_229', 'vector_23', 'vector_230', 'vector_231', 'vector_232', 'vector_233', 'vector_234', 'vector_235', 'vector_236', 'vector_237', 'vector_238', 'vector_239', 'vector_24', 'vector_240', 'vector_241', 'vector_242', 'vector_243', 'vector_244', 'vector_245', 'vector_246', 'vector_247', 'vector_248', 'vector_249', 'vector_25', 'vector_250', 'vector_251', 'vector_252', 'vector_253', 'vector_254', 'vector_255', 'vector_256', 'vector_257', 'vector_258', 'vector_259', 'vector_26', 'vector_260', 'vector_261', 'vector_262', 'vector_263', 'vector_264', 'vector_265', 'vector_266', 'vector_267', 'vector_268', 'vector_269', 'vector_27', 'vector_270', 'vector_271', 'vector_272', 'vector_273', 'vector_274', 'vector_275', 'vector_276', 'vector_277', 'vector_278', 'vector_279', 'vector_28', 'vector_280', 'vector_281', 'vector_282', 'vector_283', 'vector_284', 'vector_285', 'vector_286', 'vector_287', 'vector_288', 'vector_289', 'vector_29', 'vector_290', 'vector_291', 'vector_292', 'vector_293', 'vector_294', 'vector_295', 'vector_296', 'vector_297', 'vector_298', 'vector_299', 'vector_3', 'vector_30', 'vector_300', 'vector_301', 'vector_302', 'vector_303', 'vector_304', 'vector_305', 'vector_306', 'vector_307', 'vector_308', 'vector_309', 'vector_31', 'vector_310', 'vector_311', 'vector_312', 'vector_313', 'vector_314', 'vector_315', 'vector_316', 'vector_317', 'vector_318', 'vector_319', 'vector_32', 'vector_320', 'vector_321', 'vector_322', 'vector_323', 'vector_324', 'vector_325', 'vector_326', 'vector_327', 'vector_328', 'vector_329', 'vector_33', 'vector_330', 'vector_331', 'vector_332', 'vector_333', 'vector_334', 'vector_335', 'vector_336', 'vector_337', 'vector_338', 'vector_339', 'vector_34', 'vector_340', 'vector_341', 'vector_342', 'vector_343', 'vector_344', 'vector_345', 'vector_346', 'vector_347', 'vector_348', 'vector_349', 'vector_35', 'vector_350', 'vector_351', 'vector_352', 'vector_353', 'vector_354', 'vector_355', 'vector_356', 'vector_357', 'vector_358', 'vector_359', 'vector_36', 'vector_360', 'vector_361', 'vector_362', 'vector_363', 'vector_364', 'vector_365', 'vector_366', 'vector_367', 'vector_368', 'vector_369', 'vector_37', 'vector_370', 'vector_371', 'vector_372', 'vector_373', 'vector_374', 'vector_375', 'vector_376', 'vector_377', 'vector_378', 'vector_379', 'vector_38', 'vector_380', 'vector_381', 'vector_382', 'vector_383', 'vector_384', 'vector_385', 'vector_386', 'vector_387', 'vector_388', 'vector_389', 'vector_39', 'vector_390', 'vector_391', 'vector_392', 'vector_393', 'vector_394', 'vector_395', 'vector_396', 'vector_397', 'vector_398', 'vector_399', 'vector_4', 'vector_40', 'vector_400', 'vector_401', 'vector_402', 'vector_403', 'vector_404', 'vector_405', 'vector_406', 'vector_407', 'vector_408', 'vector_409', 'vector_41', 'vector_410', 'vector_411', 'vector_412', 'vector_413', 'vector_414', 'vector_415', 'vector_416', 'vector_417', 'vector_418', 'vector_419', 'vector_42', 'vector_420', 'vector_421', 'vector_422', 'vector_423', 'vector_424', 'vector_425', 'vector_426', 'vector_427', 'vector_428', 'vector_429', 'vector_43', 'vector_430', 'vector_431', 'vector_432', 'vector_433', 'vector_434', 'vector_435', 'vector_436', 'vector_437', 'vector_438', 'vector_439', 'vector_44', 'vector_440', 'vector_441', 'vector_442', 'vector_443', 'vector_444', 'vector_445', 'vector_446', 'vector_447', 'vector_448', 'vector_449', 'vector_45', 'vector_450', 'vector_451', 'vector_452', 'vector_453', 'vector_454', 'vector_455', 'vector_456', 'vector_457', 'vector_458', 'vector_459', 'vector_46', 'vector_460', 'vector_461', 'vector_462', 'vector_463', 'vector_464', 'vector_465', 'vector_466', 'vector_467', 'vector_468', 'vector_469', 'vector_47', 'vector_470', 'vector_471', 'vector_472', 'vector_473', 'vector_474', 'vector_475', 'vector_476', 'vector_477', 'vector_478', 'vector_479', 'vector_48', 'vector_480', 'vector_481', 'vector_482', 'vector_483', 'vector_484', 'vector_485', 'vector_486', 'vector_487', 'vector_488', 'vector_489', 'vector_49', 'vector_490', 'vector_491', 'vector_492', 'vector_493', 'vector_494', 'vector_495', 'vector_496', 'vector_497', 'vector_498', 'vector_499', 'vector_5', 'vector_50', 'vector_500', 'vector_501', 'vector_502', 'vector_503', 'vector_504', 'vector_505', 'vector_506', 'vector_507', 'vector_508', 'vector_509', 'vector_51', 'vector_510', 'vector_511', 'vector_512', 'vector_513', 'vector_514', 'vector_515', 'vector_516', 'vector_517', 'vector_518', 'vector_519', 'vector_52', 'vector_520', 'vector_521', 'vector_522', 'vector_523', 'vector_524', 'vector_525', 'vector_526', 'vector_527', 'vector_528', 'vector_529', 'vector_53', 'vector_530', 'vector_531', 'vector_532', 'vector_533', 'vector_534', 'vector_535', 'vector_536', 'vector_537', 'vector_538', 'vector_539', 'vector_54', 'vector_540', 'vector_541', 'vector_542', 'vector_543', 'vector_544', 'vector_545', 'vector_546', 'vector_547', 'vector_548', 'vector_549', 'vector_55', 'vector_550', 'vector_551', 'vector_552', 'vector_553', 'vector_554', 'vector_555', 'vector_556', 'vector_557', 'vector_558', 'vector_559', 'vector_56', 'vector_560', 'vector_561', 'vector_562', 'vector_563', 'vector_564', 'vector_565', 'vector_566', 'vector_567', 'vector_568', 'vector_569', 'vector_57', 'vector_570', 'vector_571', 'vector_572', 'vector_573', 'vector_574', 'vector_575', 'vector_576', 'vector_577', 'vector_578', 'vector_579', 'vector_58', 'vector_580', 'vector_581', 'vector_582', 'vector_583', 'vector_584', 'vector_585', 'vector_586', 'vector_587', 'vector_588', 'vector_589', 'vector_59', 'vector_590', 'vector_591', 'vector_592', 'vector_593', 'vector_594', 'vector_595', 'vector_596', 'vector_597', 'vector_598', 'vector_599', 'vector_6', 'vector_60', 'vector_600', 'vector_601', 'vector_602', 'vector_603', 'vector_604', 'vector_605', 'vector_606', 'vector_607', 'vector_608', 'vector_609', 'vector_61', 'vector_610', 'vector_611', 'vector_612', 'vector_613', 'vector_614', 'vector_615', 'vector_616', 'vector_617', 'vector_618', 'vector_619', 'vector_62', 'vector_620', 'vector_621', 'vector_622', 'vector_623', 'vector_624', 'vector_625', 'vector_626', 'vector_627', 'vector_628', 'vector_629', 'vector_63', 'vector_630', 'vector_631', 'vector_632', 'vector_633', 'vector_634', 'vector_635', 'vector_636', 'vector_637', 'vector_638', 'vector_639', 'vector_64', 'vector_640', 'vector_641', 'vector_642', 'vector_643', 'vector_644', 'vector_645', 'vector_646', 'vector_647', 'vector_648', 'vector_649', 'vector_65', 'vector_650', 'vector_651', 'vector_652', 'vector_653', 'vector_654', 'vector_655', 'vector_656', 'vector_657', 'vector_658', 'vector_659', 'vector_66', 'vector_660', 'vector_661', 'vector_662', 'vector_663', 'vector_664', 'vector_665', 'vector_666', 'vector_667', 'vector_668', 'vector_669', 'vector_67', 'vector_670', 'vector_671', 'vector_672', 'vector_673', 'vector_674', 'vector_675', 'vector_676', 'vector_677', 'vector_678', 'vector_679', 'vector_68', 'vector_680', 'vector_681', 'vector_682', 'vector_683', 'vector_684', 'vector_685', 'vector_686', 'vector_687', 'vector_688', 'vector_689', 'vector_69', 'vector_690', 'vector_691', 'vector_692', 'vector_693', 'vector_694', 'vector_695', 'vector_696', 'vector_697', 'vector_698', 'vector_699', 'vector_7', 'vector_70', 'vector_700', 'vector_701', 'vector_702', 'vector_703', 'vector_704', 'vector_705', 'vector_706', 'vector_707', 'vector_708', 'vector_709', 'vector_71', 'vector_710', 'vector_711', 'vector_712', 'vector_713', 'vector_714', 'vector_715', 'vector_716', 'vector_717', 'vector_718', 'vector_719', 'vector_72', 'vector_720', 'vector_721', 'vector_722', 'vector_723', 'vector_724', 'vector_725', 'vector_726', 'vector_727', 'vector_728', 'vector_729', 'vector_73', 'vector_730', 'vector_731', 'vector_732', 'vector_733', 'vector_734', 'vector_735', 'vector_736', 'vector_737', 'vector_738', 'vector_739', 'vector_74', 'vector_740', 'vector_741', 'vector_742', 'vector_743', 'vector_744', 'vector_745', 'vector_746', 'vector_747', 'vector_748', 'vector_749', 'vector_75', 'vector_750', 'vector_751', 'vector_752', 'vector_753', 'vector_754', 'vector_755', 'vector_756', 'vector_757', 'vector_758', 'vector_759', 'vector_76', 'vector_760', 'vector_761', 'vector_762', 'vector_763', 'vector_764', 'vector_765', 'vector_766', 'vector_767', 'vector_768', 'vector_769', 'vector_77', 'vector_770', 'vector_771', 'vector_772', 'vector_773', 'vector_774', 'vector_775', 'vector_776', 'vector_777', 'vector_778', 'vector_779', 'vector_78', 'vector_780', 'vector_781', 'vector_782', 'vector_783', 'vector_784', 'vector_785', 'vector_786', 'vector_787', 'vector_788', 'vector_789', 'vector_79', 'vector_790', 'vector_791', 'vector_792', 'vector_793', 'vector_794', 'vector_795', 'vector_796', 'vector_797', 'vector_798', 'vector_799', 'vector_8', 'vector_80', 'vector_800', 'vector_801', 'vector_802', 'vector_803', 'vector_804', 'vector_805', 'vector_806', 'vector_807', 'vector_808', 'vector_809', 'vector_81', 'vector_810', 'vector_811', 'vector_812', 'vector_813', 'vector_814', 'vector_815', 'vector_816', 'vector_817', 'vector_818', 'vector_819', 'vector_82', 'vector_820', 'vector_821', 'vector_822', 'vector_823', 'vector_824', 'vector_825', 'vector_826', 'vector_827', 'vector_828', 'vector_829', 'vector_83', 'vector_830', 'vector_831', 'vector_832', 'vector_833', 'vector_834', 'vector_835', 'vector_836', 'vector_837', 'vector_838', 'vector_839', 'vector_84', 'vector_840', 'vector_841', 'vector_842', 'vector_843', 'vector_844', 'vector_845', 'vector_846', 'vector_847', 'vector_848', 'vector_849', 'vector_85', 'vector_850', 'vector_851', 'vector_852', 'vector_853', 'vector_854', 'vector_855', 'vector_856', 'vector_857', 'vector_858', 'vector_859', 'vector_86', 'vector_860', 'vector_861', 'vector_862', 'vector_863', 'vector_864', 'vector_865', 'vector_866', 'vector_867', 'vector_868', 'vector_869', 'vector_87', 'vector_870', 'vector_871', 'vector_872', 'vector_873', 'vector_874', 'vector_875', 'vector_876', 'vector_877', 'vector_878', 'vector_879', 'vector_88', 'vector_880', 'vector_881', 'vector_882', 'vector_883', 'vector_884', 'vector_885', 'vector_886', 'vector_887', 'vector_888', 'vector_889', 'vector_89', 'vector_890', 'vector_891', 'vector_892', 'vector_893', 'vector_894', 'vector_895', 'vector_896', 'vector_897', 'vector_898', 'vector_899', 'vector_9', 'vector_90', 'vector_900', 'vector_901', 'vector_902', 'vector_903', 'vector_904', 'vector_905', 'vector_906', 'vector_907', 'vector_908', 'vector_909', 'vector_91', 'vector_910', 'vector_911', 'vector_912', 'vector_913', 'vector_914', 'vector_915', 'vector_916', 'vector_917', 'vector_918', 'vector_919', 'vector_92', 'vector_920', 'vector_921', 'vector_922', 'vector_923', 'vector_924', 'vector_925', 'vector_926', 'vector_927', 'vector_928', 'vector_929', 'vector_93', 'vector_930', 'vector_931', 'vector_932', 'vector_933', 'vector_934', 'vector_935', 'vector_936', 'vector_937', 'vector_938', 'vector_939', 'vector_94', 'vector_940', 'vector_941', 'vector_942', 'vector_943', 'vector_944', 'vector_945', 'vector_946', 'vector_947', 'vector_948', 'vector_949', 'vector_95', 'vector_950', 'vector_951', 'vector_952', 'vector_953', 'vector_954', 'vector_955', 'vector_956', 'vector_957', 'vector_958', 'vector_959', 'vector_96', 'vector_960', 'vector_961', 'vector_962', 'vector_963', 'vector_964', 'vector_965', 'vector_966', 'vector_967', 'vector_968', 'vector_969', 'vector_97', 'vector_970', 'vector_971', 'vector_972', 'vector_973', 'vector_974', 'vector_975', 'vector_976', 'vector_977', 'vector_978', 'vector_979', 'vector_98', 'vector_980', 'vector_981', 'vector_982', 'vector_983', 'vector_984', 'vector_985', 'vector_986', 'vector_987', 'vector_988', 'vector_989', 'vector_99', 'vector_990', 'vector_991', 'vector_992', 'vector_993', 'vector_994', 'vector_995', 'vector_996', 'vector_997', 'vector_998', 'vector_999', 'x_cell_dofs']>"
      ]
     },
     "execution_count": 72,
     "metadata": {},
     "output_type": "execute_result"
    }
   ],
   "source": [
    "import h5py\n",
    "import vtk\n",
    "\n",
    "data = h5py.File(velocity_path,'r')\n",
    "velocity = data['velocity']\n",
    "vector0 = velocity['vector_0']\n",
    "velocity.keys()\n",
    "\n",
    "\n",
    "#mesh = vtk.vtkUnstructuredGrid()\n",
    "#mesh.setp"
   ]
  },
  {
   "cell_type": "code",
   "execution_count": 13,
   "metadata": {},
   "outputs": [
    {
     "data": {
      "text/plain": [
       "<HDF5 dataset \"cell_dofs\": shape (32270970,), type \"<i4\">"
      ]
     },
     "execution_count": 13,
     "metadata": {},
     "output_type": "execute_result"
    }
   ],
   "source": [
    "velocity['cell_dofs']"
   ]
  },
  {
   "cell_type": "code",
   "execution_count": 14,
   "metadata": {},
   "outputs": [
    {
     "data": {
      "text/plain": [
       "<HDF5 dataset \"cells\": shape (1075699,), type \"<u8\">"
      ]
     },
     "execution_count": 14,
     "metadata": {},
     "output_type": "execute_result"
    }
   ],
   "source": [
    "velocity['cells']"
   ]
  },
  {
   "cell_type": "code",
   "execution_count": 15,
   "metadata": {},
   "outputs": [
    {
     "data": {
      "text/plain": [
       "<HDF5 dataset \"vector_0\": shape (4433814,), type \"<f8\">"
      ]
     },
     "execution_count": 15,
     "metadata": {},
     "output_type": "execute_result"
    }
   ],
   "source": [
    "velocity['vector_0']"
   ]
  },
  {
   "cell_type": "code",
   "execution_count": 24,
   "metadata": {},
   "outputs": [
    {
     "data": {
      "text/plain": [
       "4.121798012269231"
      ]
     },
     "execution_count": 24,
     "metadata": {},
     "output_type": "execute_result"
    }
   ],
   "source": [
    "4433814/1075699"
   ]
  },
  {
   "cell_type": "code",
   "execution_count": 25,
   "metadata": {},
   "outputs": [
    {
     "data": {
      "text/plain": [
       "7.278377036113829"
      ]
     },
     "execution_count": 25,
     "metadata": {},
     "output_type": "execute_result"
    }
   ],
   "source": [
    "32270970/4433814"
   ]
  },
  {
   "cell_type": "code",
   "execution_count": null,
   "metadata": {},
   "outputs": [],
   "source": [
    "mesh = vtk.vtkUnstructuredGrid()\n",
    "mesh.SetCells()"
   ]
  },
  {
   "cell_type": "code",
   "execution_count": 30,
   "metadata": {},
   "outputs": [
    {
     "data": {
      "text/plain": [
       "-0.08536124013159521"
      ]
     },
     "execution_count": 30,
     "metadata": {},
     "output_type": "execute_result"
    }
   ],
   "source": [
    "velocity['vector_100'][9]"
   ]
  },
  {
   "cell_type": "code",
   "execution_count": 38,
   "metadata": {},
   "outputs": [
    {
     "name": "stdout",
     "output_type": "stream",
     "text": [
      "1\n"
     ]
    }
   ],
   "source": [
    "print(len(data.keys()))"
   ]
  },
  {
   "cell_type": "code",
   "execution_count": 7,
   "metadata": {},
   "outputs": [
    {
     "name": "stdout",
     "output_type": "stream",
     "text": [
      "['/Users/ana/Documents/AnahitaSeresti/02_ContrastStudy/Contrast_Dispersion/scripts/Simulation_Tools', '/usr/local/anaconda3/envs/vtkfenics/lib/python311.zip', '/usr/local/anaconda3/envs/vtkfenics/lib/python3.11', '/usr/local/anaconda3/envs/vtkfenics/lib/python3.11/lib-dynload', '', '/usr/local/anaconda3/envs/vtkfenics/lib/python3.11/site-packages', '/Users/ana/Documents/AnahitaSeresti/02_ContrastStudy', '/Users/ana/Documents/AnahitaSeresti/02_ContrastStudy', '/Users/ana/Documents/AnahitaSeresti/02_ContrastStudy', '/Users/ana/Documents/AnahitaSeresti/02_ContrastStudy', '/Users/ana/Documents/AnahitaSeresti/02_ContrastStudy', '/Users/ana/Documents/AnahitaSeresti/02_ContrastStudy/Contrast_Dispersion', '/Users/ana/Documents/AnahitaSeresti/02_ContrastStudy/Contrast_Dispersion']\n"
     ]
    }
   ],
   "source": [
    "import sys\n",
    "import os\n",
    "SCRIPT_DIR = os.path.dirname(os.path.abspath(\"../../tools\"))\n",
    "sys.path.append(os.path.dirname(SCRIPT_DIR))\n",
    "print(sys.path)\n",
    "#from utilities import ReadVTUFile, numpy_to_vtk "
   ]
  },
  {
   "cell_type": "code",
   "execution_count": 15,
   "metadata": {},
   "outputs": [],
   "source": [
    "from utilities import ReadVTUFile, numpy_to_vtk, WriteVTUFile"
   ]
  },
  {
   "cell_type": "code",
   "execution_count": 9,
   "metadata": {},
   "outputs": [],
   "source": [
    "mesh_path = \"/Volumes/CIMBL_HardDrive1/AnahitaAbbasnejad/Meshes/Stenotic_Mesh/mesh-complete.vtu\"\n",
    "mesh = ReadVTUFile(mesh_path)"
   ]
  },
  {
   "cell_type": "code",
   "execution_count": 31,
   "metadata": {},
   "outputs": [
    {
     "name": "stdout",
     "output_type": "stream",
     "text": [
      "0.2959627492646671\n"
     ]
    }
   ],
   "source": [
    "import numpy as np\n",
    "vector_100 = np.array(velocity['vector_100'])\n",
    "print(vector_100[200])\n"
   ]
  },
  {
   "cell_type": "code",
   "execution_count": 100,
   "metadata": {},
   "outputs": [
    {
     "name": "stdout",
     "output_type": "stream",
     "text": [
      "4433814\n",
      "1127343\n",
      "188209\n"
     ]
    }
   ],
   "source": [
    "vector_shape = np.shape(vector_100)\n",
    "velocity_array = []\n",
    "print(vector_shape[0])\n",
    "print(mesh.GetNumberOfCells())\n",
    "print(mesh.GetNumberOfPoints())"
   ]
  },
  {
   "cell_type": "code",
   "execution_count": 24,
   "metadata": {},
   "outputs": [
    {
     "name": "stdout",
     "output_type": "stream",
     "text": [
      "['ALLCOPY', 'AddArray', 'AddObserver', 'Allocate', 'AllocateArrays', 'AttributeCopyOperations', 'AttributeLimitTypes', 'AttributeTypes', 'BreakOnError', 'COPYTUPLE', 'CellGhostTypes', 'CopyAllOff', 'CopyAllOn', 'CopyAllocate', 'CopyData', 'CopyFieldOff', 'CopyFieldOn', 'CopyGlobalIdsOff', 'CopyGlobalIdsOn', 'CopyHigherOrderDegreesOff', 'CopyHigherOrderDegreesOn', 'CopyNormalsOff', 'CopyNormalsOn', 'CopyPedigreeIdsOff', 'CopyPedigreeIdsOn', 'CopyRationalWeightsOff', 'CopyRationalWeightsOn', 'CopyScalarsOff', 'CopyScalarsOn', 'CopyStructure', 'CopyStructuredData', 'CopyTCoordsOff', 'CopyTCoordsOn', 'CopyTangentsOff', 'CopyTangentsOn', 'CopyTensorsOff', 'CopyTensorsOn', 'CopyTuple', 'CopyTuples', 'CopyVectorsOff', 'CopyVectorsOn', 'DUPLICATECELL', 'DUPLICATEPOINT', 'DebugOff', 'DebugOn', 'DeepCopy', 'EDGEFLAG', 'EXACT', 'EXTERIORCELL', 'ExtendedNew', 'FastDelete', 'GLOBALIDS', 'GetAbstractArray', 'GetAbstractAttribute', 'GetActualMemorySize', 'GetAddressAsString', 'GetArray', 'GetArrayContainingComponent', 'GetArrayName', 'GetAttribute', 'GetAttributeIndices', 'GetAttributeTypeAsString', 'GetClassName', 'GetCommand', 'GetCopyAttribute', 'GetCopyGlobalIds', 'GetCopyHigherOrderDegrees', 'GetCopyNormals', 'GetCopyPedigreeIds', 'GetCopyRationalWeights', 'GetCopyScalars', 'GetCopyTCoords', 'GetCopyTangents', 'GetCopyTensors', 'GetCopyVectors', 'GetDebug', 'GetField', 'GetFiniteRange', 'GetGhostArray', 'GetGhostsToSkip', 'GetGlobalIds', 'GetGlobalWarningDisplay', 'GetHigherOrderDegrees', 'GetIsInMemkind', 'GetLongAttributeTypeAsString', 'GetMTime', 'GetNormals', 'GetNumberOfArrays', 'GetNumberOfComponents', 'GetNumberOfGenerationsFromBase', 'GetNumberOfGenerationsFromBaseType', 'GetNumberOfTuples', 'GetObjectDescription', 'GetObjectName', 'GetPedigreeIds', 'GetRange', 'GetRationalWeights', 'GetReferenceCount', 'GetScalars', 'GetTCoords', 'GetTangents', 'GetTensors', 'GetUsingMemkind', 'GetVectors', 'GhostArrayName', 'GlobalWarningDisplayOff', 'GlobalWarningDisplayOn', 'HIDDENCELL', 'HIDDENPOINT', 'HIGHCONNECTIVITYCELL', 'HIGHERORDERDEGREES', 'HasArray', 'HasObserver', 'INTERPOLATE', 'Initialize', 'InitializeObjectBase', 'InsertNextTuple', 'InsertTuple', 'InterpolateAllocate', 'InterpolateEdge', 'InterpolatePoint', 'InterpolateTime', 'InvokeEvent', 'IsA', 'IsArrayAnAttribute', 'IsTypeOf', 'LOWCONNECTIVITYCELL', 'MAX', 'Modified', 'NOLIMIT', 'NORMALS', 'NUM_ATTRIBUTES', 'NewInstance', 'NullData', 'PASSDATA', 'PEDIGREEIDS', 'PassData', 'PointGhostTypes', 'RATIONALWEIGHTS', 'REFINEDCELL', 'Register', 'RemoveAllObservers', 'RemoveArray', 'RemoveObserver', 'RemoveObservers', 'Reset', 'SCALARS', 'SafeDownCast', 'SetActiveAttribute', 'SetActiveGlobalIds', 'SetActiveHigherOrderDegrees', 'SetActiveNormals', 'SetActivePedigreeIds', 'SetActiveRationalWeights', 'SetActiveScalars', 'SetActiveTCoords', 'SetActiveTangents', 'SetActiveTensors', 'SetActiveVectors', 'SetAttribute', 'SetCopyAttribute', 'SetCopyGlobalIds', 'SetCopyHigherOrderDegrees', 'SetCopyNormals', 'SetCopyPedigreeIds', 'SetCopyRationalWeights', 'SetCopyScalars', 'SetCopyTCoords', 'SetCopyTangents', 'SetCopyTensors', 'SetCopyVectors', 'SetDebug', 'SetGhostsToSkip', 'SetGlobalIds', 'SetGlobalWarningDisplay', 'SetHigherOrderDegrees', 'SetMemkindDirectory', 'SetNormals', 'SetNumberOfTuples', 'SetObjectName', 'SetPedigreeIds', 'SetRationalWeights', 'SetReferenceCount', 'SetScalars', 'SetTCoords', 'SetTangents', 'SetTensors', 'SetTuple', 'SetVectors', 'SetupForCopy', 'ShallowCopy', 'Squeeze', 'TANGENTS', 'TCOORDS', 'TENSORS', 'UnRegister', 'Update', 'UsesGarbageCollector', 'VECTORS', '__class__', '__delattr__', '__dict__', '__dir__', '__doc__', '__eq__', '__format__', '__ge__', '__getattribute__', '__getstate__', '__gt__', '__hash__', '__init__', '__init_subclass__', '__le__', '__lt__', '__ne__', '__new__', '__reduce__', '__reduce_ex__', '__repr__', '__setattr__', '__sizeof__', '__str__', '__subclasshook__', '__this__', '__vtkname__', 'override']\n"
     ]
    }
   ],
   "source": [
    "print(dir(mesh.GetCellData()))"
   ]
  },
  {
   "cell_type": "code",
   "execution_count": 25,
   "metadata": {},
   "outputs": [
    {
     "data": {
      "text/plain": [
       "1"
      ]
     },
     "execution_count": 25,
     "metadata": {},
     "output_type": "execute_result"
    }
   ],
   "source": [
    "mesh.GetCellData().AddArray(vector_100)"
   ]
  },
  {
   "cell_type": "code",
   "execution_count": 26,
   "metadata": {},
   "outputs": [],
   "source": [
    "WriteVTUFile('./Vector_100.vtu', mesh)"
   ]
  },
  {
   "cell_type": "code",
   "execution_count": null,
   "metadata": {},
   "outputs": [],
   "source": [
    "vector = vtk.vtkFloatArray()\n",
    "vector.SetName('Velocity')\n",
    "vector.SetNumberOfComponents(3)\n",
    "vector.SetNumberOfTuples(vector_shape/3)\n"
   ]
  },
  {
   "cell_type": "code",
   "execution_count": 57,
   "metadata": {},
   "outputs": [
    {
     "data": {
      "text/plain": [
       "0"
      ]
     },
     "execution_count": 57,
     "metadata": {},
     "output_type": "execute_result"
    }
   ],
   "source": [
    "vector_100 = numpy_to_vtk(vector_100)\n",
    "meshData = vtk.vtkUnstructuredGrid()\n",
    "meshData.GetPointData().AddArray(vector_100)\n",
    "\n",
    "#WriteVTUFile('./Vector_100.vtu', meshData)"
   ]
  },
  {
   "cell_type": "code",
   "execution_count": 60,
   "metadata": {},
   "outputs": [
    {
     "name": "stdout",
     "output_type": "stream",
     "text": [
      "['ALLCOPY', 'AddArray', 'AddObserver', 'Allocate', 'AllocateArrays', 'AttributeCopyOperations', 'AttributeLimitTypes', 'AttributeTypes', 'BreakOnError', 'COPYTUPLE', 'CellGhostTypes', 'CopyAllOff', 'CopyAllOn', 'CopyAllocate', 'CopyData', 'CopyFieldOff', 'CopyFieldOn', 'CopyGlobalIdsOff', 'CopyGlobalIdsOn', 'CopyHigherOrderDegreesOff', 'CopyHigherOrderDegreesOn', 'CopyNormalsOff', 'CopyNormalsOn', 'CopyPedigreeIdsOff', 'CopyPedigreeIdsOn', 'CopyRationalWeightsOff', 'CopyRationalWeightsOn', 'CopyScalarsOff', 'CopyScalarsOn', 'CopyStructure', 'CopyStructuredData', 'CopyTCoordsOff', 'CopyTCoordsOn', 'CopyTangentsOff', 'CopyTangentsOn', 'CopyTensorsOff', 'CopyTensorsOn', 'CopyTuple', 'CopyTuples', 'CopyVectorsOff', 'CopyVectorsOn', 'DUPLICATECELL', 'DUPLICATEPOINT', 'DebugOff', 'DebugOn', 'DeepCopy', 'EDGEFLAG', 'EXACT', 'EXTERIORCELL', 'ExtendedNew', 'FastDelete', 'GLOBALIDS', 'GetAbstractArray', 'GetAbstractAttribute', 'GetActualMemorySize', 'GetAddressAsString', 'GetArray', 'GetArrayContainingComponent', 'GetArrayName', 'GetAttribute', 'GetAttributeIndices', 'GetAttributeTypeAsString', 'GetClassName', 'GetCommand', 'GetCopyAttribute', 'GetCopyGlobalIds', 'GetCopyHigherOrderDegrees', 'GetCopyNormals', 'GetCopyPedigreeIds', 'GetCopyRationalWeights', 'GetCopyScalars', 'GetCopyTCoords', 'GetCopyTangents', 'GetCopyTensors', 'GetCopyVectors', 'GetDebug', 'GetField', 'GetFiniteRange', 'GetGhostArray', 'GetGhostsToSkip', 'GetGlobalIds', 'GetGlobalWarningDisplay', 'GetHigherOrderDegrees', 'GetIsInMemkind', 'GetLongAttributeTypeAsString', 'GetMTime', 'GetNormals', 'GetNumberOfArrays', 'GetNumberOfComponents', 'GetNumberOfGenerationsFromBase', 'GetNumberOfGenerationsFromBaseType', 'GetNumberOfTuples', 'GetObjectDescription', 'GetObjectName', 'GetPedigreeIds', 'GetRange', 'GetRationalWeights', 'GetReferenceCount', 'GetScalars', 'GetTCoords', 'GetTangents', 'GetTensors', 'GetUsingMemkind', 'GetVectors', 'GhostArrayName', 'GlobalWarningDisplayOff', 'GlobalWarningDisplayOn', 'HIDDENCELL', 'HIDDENPOINT', 'HIGHCONNECTIVITYCELL', 'HIGHERORDERDEGREES', 'HasArray', 'HasObserver', 'INTERPOLATE', 'Initialize', 'InitializeObjectBase', 'InsertNextTuple', 'InsertTuple', 'InterpolateAllocate', 'InterpolateEdge', 'InterpolatePoint', 'InterpolateTime', 'InvokeEvent', 'IsA', 'IsArrayAnAttribute', 'IsTypeOf', 'LOWCONNECTIVITYCELL', 'MAX', 'Modified', 'NOLIMIT', 'NORMALS', 'NUM_ATTRIBUTES', 'NewInstance', 'NullData', 'PASSDATA', 'PEDIGREEIDS', 'PassData', 'PointGhostTypes', 'RATIONALWEIGHTS', 'REFINEDCELL', 'Register', 'RemoveAllObservers', 'RemoveArray', 'RemoveObserver', 'RemoveObservers', 'Reset', 'SCALARS', 'SafeDownCast', 'SetActiveAttribute', 'SetActiveGlobalIds', 'SetActiveHigherOrderDegrees', 'SetActiveNormals', 'SetActivePedigreeIds', 'SetActiveRationalWeights', 'SetActiveScalars', 'SetActiveTCoords', 'SetActiveTangents', 'SetActiveTensors', 'SetActiveVectors', 'SetAttribute', 'SetCopyAttribute', 'SetCopyGlobalIds', 'SetCopyHigherOrderDegrees', 'SetCopyNormals', 'SetCopyPedigreeIds', 'SetCopyRationalWeights', 'SetCopyScalars', 'SetCopyTCoords', 'SetCopyTangents', 'SetCopyTensors', 'SetCopyVectors', 'SetDebug', 'SetGhostsToSkip', 'SetGlobalIds', 'SetGlobalWarningDisplay', 'SetHigherOrderDegrees', 'SetMemkindDirectory', 'SetNormals', 'SetNumberOfTuples', 'SetObjectName', 'SetPedigreeIds', 'SetRationalWeights', 'SetReferenceCount', 'SetScalars', 'SetTCoords', 'SetTangents', 'SetTensors', 'SetTuple', 'SetVectors', 'SetupForCopy', 'ShallowCopy', 'Squeeze', 'TANGENTS', 'TCOORDS', 'TENSORS', 'UnRegister', 'Update', 'UsesGarbageCollector', 'VECTORS', '__class__', '__delattr__', '__dict__', '__dir__', '__doc__', '__eq__', '__format__', '__ge__', '__getattribute__', '__getstate__', '__gt__', '__hash__', '__init__', '__init_subclass__', '__le__', '__lt__', '__ne__', '__new__', '__reduce__', '__reduce_ex__', '__repr__', '__setattr__', '__sizeof__', '__str__', '__subclasshook__', '__this__', '__vtkname__', 'override']\n",
      "1\n",
      "1\n",
      "0\n"
     ]
    }
   ],
   "source": [
    "print(dir(meshData.GetCellData()))\n",
    "print(meshData.GetPointData().GetNumberOfArrays())\n",
    "print(meshData.GetPointData().GetNumberOfComponents())\n",
    "print(meshData.GetNumberOfPoints())"
   ]
  },
  {
   "cell_type": "code",
   "execution_count": 65,
   "metadata": {},
   "outputs": [],
   "source": [
    "vector_100.SetName('velocity')\n",
    "mesh.GetCellData().AddArray(vector_100)\n",
    "WriteVTUFile('./Vector_100.vtu', mesh)"
   ]
  },
  {
   "cell_type": "code",
   "execution_count": 62,
   "metadata": {},
   "outputs": [],
   "source": [
    "cells = np.array(velocity['cells'])"
   ]
  },
  {
   "cell_type": "code",
   "execution_count": 63,
   "metadata": {},
   "outputs": [
    {
     "name": "stdout",
     "output_type": "stream",
     "text": [
      "[  32175   32176   32177 ... 1075622 1075623 1075624]\n"
     ]
    }
   ],
   "source": [
    "print(cells[:])"
   ]
  },
  {
   "cell_type": "code",
   "execution_count": 64,
   "metadata": {},
   "outputs": [
    {
     "name": "stdout",
     "output_type": "stream",
     "text": [
      "[   3306    3303    5472 ... 4294886 4423211 4427285]\n"
     ]
    }
   ],
   "source": [
    "cell_dof = np.array(velocity['cell_dofs'])\n",
    "print(cell_dof[:])"
   ]
  },
  {
   "cell_type": "code",
   "execution_count": 70,
   "metadata": {},
   "outputs": [
    {
     "ename": "AttributeError",
     "evalue": "'dolfin.cpp.mesh.Mesh' object has no attribute '_cpp_object'",
     "output_type": "error",
     "traceback": [
      "\u001b[0;31m---------------------------------------------------------------------------\u001b[0m",
      "\u001b[0;31mAttributeError\u001b[0m                            Traceback (most recent call last)",
      "Cell \u001b[0;32mIn[70], line 6\u001b[0m\n\u001b[1;32m      4\u001b[0m mesh_ \u001b[39m=\u001b[39m Mesh()\n\u001b[1;32m      5\u001b[0m velocity_file \u001b[39m=\u001b[39m HDF5File(MPI\u001b[39m.\u001b[39mcomm_world,velocity_path,\u001b[39m'\u001b[39m\u001b[39mr\u001b[39m\u001b[39m'\u001b[39m)\n\u001b[0;32m----> 6\u001b[0m velocity_file\u001b[39m.\u001b[39mread(mesh_,\u001b[39m'\u001b[39m\u001b[39m/Meshes/mesh_1x1x32270970\u001b[39m\u001b[39m'\u001b[39m)\n",
      "\u001b[0;31mAttributeError\u001b[0m: 'dolfin.cpp.mesh.Mesh' object has no attribute '_cpp_object'"
     ]
    }
   ],
   "source": [
    "from dolfin import HDF5File, VectorFunctionSpace, Function, MPI, Mesh\n",
    "\n",
    "#w = Function(VectorFunctionSpace)\n",
    "mesh_ = Mesh()\n",
    "velocity_file = HDF5File(MPI.comm_world,velocity_path,'r')\n",
    "velocity_file.read(mesh_,'/Meshes/mesh_1x1x32270970')\n"
   ]
  },
  {
   "cell_type": "code",
   "execution_count": 71,
   "metadata": {},
   "outputs": [
    {
     "name": "stdout",
     "output_type": "stream",
     "text": [
      "['__class__', '__delattr__', '__dir__', '__doc__', '__enter__', '__eq__', '__exit__', '__format__', '__ge__', '__getattribute__', '__getstate__', '__gt__', '__hash__', '__init__', '__init_subclass__', '__le__', '__lt__', '__module__', '__ne__', '__new__', '__reduce__', '__reduce_ex__', '__repr__', '__setattr__', '__sizeof__', '__str__', '__subclasshook__', 'attributes', 'close', 'flush', 'get_mpi_atomicity', 'has_dataset', 'id', 'label', 'name', 'parameters', 'read', 'rename', 'set_mpi_atomicity', 'write']\n"
     ]
    }
   ],
   "source": [
    "print(dir(velocity_file))"
   ]
  },
  {
   "cell_type": "code",
   "execution_count": 76,
   "metadata": {},
   "outputs": [
    {
     "name": "stdout",
     "output_type": "stream",
     "text": [
      "['_MutableMapping__marker', '__abstractmethods__', '__bool__', '__class__', '__class_getitem__', '__contains__', '__delattr__', '__delitem__', '__dict__', '__dir__', '__doc__', '__enter__', '__eq__', '__exit__', '__format__', '__ge__', '__getattribute__', '__getitem__', '__getnewargs__', '__getstate__', '__gt__', '__hash__', '__init__', '__init_subclass__', '__iter__', '__le__', '__len__', '__lt__', '__module__', '__ne__', '__new__', '__nonzero__', '__reduce__', '__reduce_ex__', '__repr__', '__reversed__', '__setattr__', '__setitem__', '__sizeof__', '__slots__', '__str__', '__subclasshook__', '__weakref__', '_abc_impl', '_d', '_e', '_gcpl_crt_order', '_id', '_ipython_key_completions_', '_lapl', '_lcpl', '_libver', 'attrs', 'build_virtual_dataset', 'clear', 'close', 'copy', 'create_dataset', 'create_dataset_like', 'create_group', 'create_virtual_dataset', 'driver', 'file', 'filename', 'flush', 'get', 'id', 'items', 'keys', 'libver', 'meta_block_size', 'mode', 'move', 'name', 'parent', 'pop', 'popitem', 'ref', 'regionref', 'require_dataset', 'require_group', 'setdefault', 'swmr_mode', 'update', 'userblock_size', 'values', 'visit', 'visititems']\n",
      "ItemsViewHDF5(<HDF5 file \"u.h5\" (mode r)>)\n"
     ]
    }
   ],
   "source": [
    "print(dir(data))\n",
    "print(data.items())"
   ]
  },
  {
   "cell_type": "code",
   "execution_count": 99,
   "metadata": {},
   "outputs": [
    {
     "name": "stdout",
     "output_type": "stream",
     "text": [
      "None\n"
     ]
    }
   ],
   "source": [
    "print(data.get('mesh_1x1x4433814'))"
   ]
  },
  {
   "cell_type": "code",
   "execution_count": null,
   "metadata": {},
   "outputs": [],
   "source": []
  }
 ],
 "metadata": {
  "kernelspec": {
   "display_name": "vtkfenics",
   "language": "python",
   "name": "python3"
  },
  "language_info": {
   "codemirror_mode": {
    "name": "ipython",
    "version": 3
   },
   "file_extension": ".py",
   "mimetype": "text/x-python",
   "name": "python",
   "nbconvert_exporter": "python",
   "pygments_lexer": "ipython3",
   "version": "3.11.4"
  },
  "orig_nbformat": 4
 },
 "nbformat": 4,
 "nbformat_minor": 2
}
